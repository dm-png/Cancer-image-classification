{
 "cells": [
  {
   "cell_type": "markdown",
   "metadata": {},
   "source": [
    "## **1. Import libraries**\n",
    "### In this step we will import all the necessary packages"
   ]
  },
  {
   "cell_type": "code",
   "execution_count": null,
   "metadata": {
    "id": "oFOznQPeGEIO"
   },
   "outputs": [],
   "source": [
    "import os\n",
    "from collections import Counter\n",
    "import tensorflow as tf\n",
    "from keras.models import Sequential\n",
    "from keras.layers import Activation, Flatten, Dense, Conv2D, MaxPooling2D\n",
    "from tensorflow.keras.preprocessing.image import ImageDataGenerator\n",
    "import splitfolders\n",
    "import numpy as np\n",
    "import pandas as pd\n",
    "import matplotlib.pyplot as plt\n",
    "from matplotlib import style\n",
    "import matplotlib.ticker as mticker\n",
    "from sklearn.utils.class_weight import compute_class_weight\n",
    "import seaborn as sns\n",
    "from sklearn.metrics import confusion_matrix, classification_report\n",
    "from sklearn.metrics import roc_curve, auc"
   ]
  },
  {
   "cell_type": "markdown",
   "metadata": {},
   "source": [
    "## **2. GPU selection**\n",
    "\n",
    "### Check and use available GPUs"
   ]
  },
  {
   "cell_type": "code",
   "execution_count": null,
   "metadata": {
    "colab": {
     "base_uri": "https://localhost:8080/"
    },
    "id": "wyJ-hccZGIbF",
    "outputId": "0e2dd1b2-2f7b-4795-a606-bf6cc4565c1e"
   },
   "outputs": [],
   "source": [
    "print('GPU name: ', tf.config.experimental.list_physical_devices('GPU'))"
   ]
  },
  {
   "cell_type": "code",
   "execution_count": null,
   "metadata": {
    "colab": {
     "base_uri": "https://localhost:8080/"
    },
    "id": "u2mDdXeyGQc2",
    "outputId": "de01bde0-f357-4c00-bf77-370c2d2ea30a"
   },
   "outputs": [],
   "source": [
    "gpus = tf.config.experimental.list_physical_devices('GPU')\n",
    "if gpus:\n",
    "    try:\n",
    "        for gpu in gpus:\n",
    "            tf.config.experimental.set_memory_growth(gpu, True)\n",
    "            logical_gpus = tf.config.experimental.list_logical_devices('GPU')\n",
    "            print(len(gpus), \"Physical GPUs,\", len(logical_gpus), \"Logical GPUs\")\n",
    "    except RuntimeError as e:\n",
    "        print(e)"
   ]
  },
  {
   "cell_type": "markdown",
   "metadata": {},
   "source": [
    "## **3. Dataset**\n",
    "\n",
    "### Import and check the dataset"
   ]
  },
  {
   "cell_type": "code",
   "execution_count": null,
   "metadata": {
    "id": "vwxr7D6PQJoX"
   },
   "outputs": [],
   "source": [
    "# Define dataset paths\n",
    "data_dir = \"Malignant_Benign\"\n",
    "train_test_dir = \"TrainTest\""
   ]
  },
  {
   "cell_type": "code",
   "execution_count": null,
   "metadata": {
    "colab": {
     "base_uri": "https://localhost:8080/"
    },
    "id": "13HxrSEEGuGo",
    "outputId": "bd0e5eb5-5eb2-4dc5-9cb0-657b1765ed0f"
   },
   "outputs": [],
   "source": [
    "categories = [\"Malignant\", \"Benign\"]\n",
    "image_counts = {}\n",
    "\n",
    "for category in categories:\n",
    "    category_path = os.path.join(data_dir, category)\n",
    "    image_counts[category] = len(os.listdir(category_path))\n",
    "\n",
    "print(\"Image counts:\", image_counts)"
   ]
  },
  {
   "cell_type": "code",
   "execution_count": null,
   "metadata": {
    "colab": {
     "base_uri": "https://localhost:8080/",
     "height": 399
    },
    "id": "d51Y-4zHIO9L",
    "outputId": "49643c19-9dbd-40b4-a674-33475a6d233a"
   },
   "outputs": [],
   "source": [
    "plt.figure(figsize=(4, 4))\n",
    "plt.bar(image_counts.keys(), image_counts.values(), color=['red', 'blue'], width=0.5, alpha=0.5)\n",
    "\n",
    "ax = plt.gca()  # Get the current axes\n",
    "for spine in ax.spines.values():\n",
    "    spine.set_linewidth(2)\n",
    "\n",
    "#plt.xlabel('Categories', fontweight='bold', fontsize=14)\n",
    "plt.ylabel('Number of Images', fontweight='bold', fontsize=14)\n",
    "\n",
    "plt.tick_params(axis='x', which='both', length=5, width=2)\n",
    "plt.tick_params(axis='y', which='both', length=5, width=2)\n",
    "\n",
    "plt.xticks(fontsize=12, fontweight='bold')\n",
    "plt.yticks(fontsize=12, fontweight='bold')\n",
    "#plt.title('Image Counts by Category', fontweight='bold', fontsize=14)\n",
    "plt.savefig('image_count.png', dpi=600, bbox_inches='tight', pad_inches=0.1)\n",
    "plt.show()"
   ]
  },
  {
   "cell_type": "markdown",
   "metadata": {},
   "source": [
    "## **4. Data imbalance**\n",
    "\n",
    "### Check if the dataset in imbalanced or not. Use Class wightage for imbalanced data"
   ]
  },
  {
   "cell_type": "code",
   "execution_count": null,
   "metadata": {
    "colab": {
     "base_uri": "https://localhost:8080/"
    },
    "id": "e__5TrnfK46n",
    "outputId": "d601f636-e148-4a01-d744-2c69fbfcd0bc"
   },
   "outputs": [],
   "source": [
    "total_images = sum(image_counts.values())\n",
    "class_ratios = {cls: count / total_images for cls, count in image_counts.items()}\n",
    "\n",
    "print(\"Class Ratios:\", class_ratios)\n",
    "\n",
    "is_imbalanced = max(class_ratios.values()) > 0.6"
   ]
  },
  {
   "cell_type": "code",
   "execution_count": null,
   "metadata": {
    "colab": {
     "base_uri": "https://localhost:8080/",
     "height": 368
    },
    "id": "sL6A8RE_Nd1T",
    "outputId": "cb0eecd7-d7a6-440e-dd5b-00a3e404c8f5"
   },
   "outputs": [],
   "source": [
    "# Create a pie plot\n",
    "plt.figure(figsize=(4, 4))  # Set figure size\n",
    "plt.pie(\n",
    "    class_ratios.values(),  # Values for the pie chart\n",
    "    labels=class_ratios.keys(),  # Labels for each section\n",
    "    autopct='%1.1f%%',  # Display percentages with 1 decimal place\n",
    "    startangle=90,  # Rotate the pie chart to start from the top\n",
    "    colors=['red', 'blue'],  # Colors for each section\n",
    "    explode=(0.1, 0),  # \"Explode\" the first slice (Cancer) for emphasis\n",
    "    wedgeprops={'alpha': 0.5}\n",
    ")\n",
    "\n",
    "# Add a title\n",
    "plt.title('Class Distribution', fontsize=14, fontweight='bold')\n",
    "\n",
    "# Save the plot (optional)\n",
    "plt.savefig('class_distribution_pie.png', dpi=600, bbox_inches='tight', pad_inches=0.1)\n",
    "\n",
    "# Show the plot\n",
    "plt.show()"
   ]
  },
  {
   "cell_type": "code",
   "execution_count": null,
   "metadata": {
    "colab": {
     "base_uri": "https://localhost:8080/"
    },
    "id": "FygtP-R1ML-K",
    "outputId": "62048160-0e5e-4596-969b-ee3ef43d5b23"
   },
   "outputs": [],
   "source": [
    "# If imbalanced, use class weighting\n",
    "class_weight = None\n",
    "if is_imbalanced:\n",
    "    labels = [0] * image_counts[\"Cancer\"] + [1] * image_counts[\"NonCancer\"]\n",
    "    class_weights = compute_class_weight('balanced', classes=np.unique(labels), y=labels)\n",
    "    class_weight = {i: weight for i, weight in enumerate(class_weights)}\n",
    "    print(\"Using Class Weights:\", class_weight)"
   ]
  },
  {
   "cell_type": "markdown",
   "metadata": {},
   "source": [
    "## **5. Deep learning model construction**"
   ]
  },
  {
   "cell_type": "markdown",
   "metadata": {},
   "source": [
    "### Data splitting into train and test sets (80:20)"
   ]
  },
  {
   "cell_type": "code",
   "execution_count": null,
   "metadata": {
    "colab": {
     "base_uri": "https://localhost:8080/"
    },
    "id": "yUOLYm3uNEwc",
    "outputId": "bc2f5c2c-8b9d-4c9d-bf54-e2c3001f59bd"
   },
   "outputs": [],
   "source": [
    "splitfolders.ratio(\"Cancer_NonCancer\", output=\"TrainTest\",\n",
    "    seed=1337, ratio=(.8, .2), group_prefix=None, move=False) # default values"
   ]
  },
  {
   "cell_type": "markdown",
   "metadata": {},
   "source": [
    "### Data augmentation"
   ]
  },
  {
   "cell_type": "code",
   "execution_count": null,
   "metadata": {
    "id": "bd7VDiELPZGg"
   },
   "outputs": [],
   "source": [
    "# Create ImageDataGenerators for training and testing\n",
    "train_datagen = ImageDataGenerator(rescale=1./255, horizontal_flip=True, rotation_range=20)  # Augmentation added\n",
    "test_datagen = ImageDataGenerator(rescale=1./255)"
   ]
  },
  {
   "cell_type": "code",
   "execution_count": null,
   "metadata": {
    "colab": {
     "base_uri": "https://localhost:8080/"
    },
    "id": "xhi6Kp5MPzVY",
    "outputId": "91b6a8fc-0573-4104-e738-4064fd10fafc"
   },
   "outputs": [],
   "source": [
    "# Create data loaders\n",
    "batch_size = 32\n",
    "img_shape = (116, 116, 3)\n",
    "\n",
    "train_generator = train_datagen.flow_from_directory(\n",
    "    os.path.join(train_test_dir, 'train'),\n",
    "    target_size=(116, 116),\n",
    "    class_mode='binary',\n",
    "    batch_size=batch_size,\n",
    "    shuffle=True\n",
    ")\n",
    "\n",
    "test_generator = test_datagen.flow_from_directory(\n",
    "    os.path.join(train_test_dir, 'val'),\n",
    "    target_size=(116, 116),\n",
    "    class_mode='binary',\n",
    "    batch_size=batch_size,\n",
    "    shuffle=False\n",
    ")"
   ]
  },
  {
   "cell_type": "markdown",
   "metadata": {},
   "source": [
    "### Building of Convolutional Neural Network (CNN) model"
   ]
  },
  {
   "cell_type": "code",
   "execution_count": null,
   "metadata": {
    "colab": {
     "base_uri": "https://localhost:8080/"
    },
    "id": "iXJI49BzQQGq",
    "outputId": "8eb70a47-c5ba-4649-d295-0dca22d70060"
   },
   "outputs": [],
   "source": [
    "# Build CNN model\n",
    "model = Sequential([\n",
    "    Conv2D(16, (5, 5), activation='relu', padding='same', input_shape=img_shape),\n",
    "    MaxPooling2D(pool_size=(2, 2)),\n",
    "    Conv2D(32, (5, 5), activation='relu', padding='same'),\n",
    "    MaxPooling2D(pool_size=(2, 2)),\n",
    "    Flatten(),\n",
    "    Dense(128, activation='relu'),\n",
    "    Dense(1, activation='sigmoid')\n",
    "])"
   ]
  },
  {
   "cell_type": "markdown",
   "metadata": {},
   "source": [
    "### Complilation of the model"
   ]
  },
  {
   "cell_type": "code",
   "execution_count": null,
   "metadata": {
    "id": "tPqc0TzzQiab"
   },
   "outputs": [],
   "source": [
    "# Compile model with class weighting if dataset is imbalanced\n",
    "model.compile(optimizer=tf.keras.optimizers.Adam(learning_rate=0.001),\n",
    "              loss='binary_crossentropy',\n",
    "              metrics=['accuracy'])\n",
    "model.summary()"
   ]
  },
  {
   "cell_type": "markdown",
   "metadata": {},
   "source": [
    "### Training of the model"
   ]
  },
  {
   "cell_type": "code",
   "execution_count": null,
   "metadata": {
    "colab": {
     "base_uri": "https://localhost:8080/"
    },
    "id": "6XGHL_FlQmhE",
    "outputId": "1aae32dc-de1b-4bb2-ba48-7bcb0f4420c3"
   },
   "outputs": [],
   "source": [
    "# Train the model\n",
    "hist = model.fit(train_generator, epochs=50, validation_data=test_generator, class_weight=class_weight)"
   ]
  },
  {
   "cell_type": "code",
   "execution_count": null,
   "metadata": {
    "id": "9V_pqU7dXd_5"
   },
   "outputs": [],
   "source": [
    "# Plot accuracy and loss\n",
    "train_acc = [100 * x for x in hist.history['accuracy']]\n",
    "test_acc = [100 * x for x in hist.history['val_accuracy']]"
   ]
  },
  {
   "cell_type": "markdown",
   "metadata": {},
   "source": [
    "### Model accuracy"
   ]
  },
  {
   "cell_type": "code",
   "execution_count": null,
   "metadata": {
    "colab": {
     "base_uri": "https://localhost:8080/",
     "height": 439
    },
    "id": "5S7tiKHusec4",
    "outputId": "f52ec9c0-66b5-42a5-e1ea-d6d5546e1010"
   },
   "outputs": [],
   "source": [
    "fig, ax = plt.subplots(1, 2, figsize=(18, 6))\n",
    "\n",
    "for axis in ax:  # Apply to both subplots\n",
    "    axis.tick_params(axis='both', which='major', labelsize=14, width=2, length=5)\n",
    "    for label in axis.get_xticklabels() + axis.get_yticklabels():\n",
    "        label.set_fontweight('bold')  # Set bold font\n",
    "\n",
    "# Plot Training & Validation Loss\n",
    "ax[0].plot(hist.history['loss'], 'g', lw=3, label='Train Loss')\n",
    "ax[0].plot(hist.history['val_loss'], 'r', lw=3, label='Validation Loss')\n",
    "ax[0].set_xlabel('Epochs', fontsize=18, fontweight='bold')\n",
    "ax[0].set_ylabel('Loss', fontsize=18, fontweight='bold')\n",
    "ax[0].legend(fontsize=15)\n",
    "ax[0].set_title('Training & Validation Loss', fontsize=15, fontweight='bold')\n",
    "\n",
    "# Styling Axes\n",
    "for spine in ax[0].spines.values():\n",
    "    spine.set_linewidth(2)\n",
    "\n",
    "# Plot Training & Validation Accuracy\n",
    "ax[1].plot(train_acc, 'b', lw=3, label=f'Train Accuracy: {train_acc[-1]:.2f}%')\n",
    "ax[1].plot(test_acc, 'orange', lw=3, label=f'Test Accuracy: {test_acc[-1]:.2f}%')\n",
    "ax[1].set_xlabel('Epochs', fontsize=18, fontweight='bold')\n",
    "ax[1].set_ylabel('Accuracy (%)', fontsize=18, fontweight='bold')\n",
    "ax[1].set_ylim([10, 110])\n",
    "ax[1].set_title('Training & Validation Accuracy', fontsize=15, fontweight='bold')\n",
    "ax[1].legend(fontsize=15)\n",
    "\n",
    "# Styling Axes\n",
    "for spine in ax[1].spines.values():\n",
    "    spine.set_linewidth(2)\n",
    "\n",
    "\n",
    "ax[0].yaxis.set_major_formatter(mticker.FuncFormatter(lambda x, _: f'{x:.1f}'))\n",
    "\n",
    "plt.savefig('Loss and accuarcy.png', dpi=600, bbox_inches='tight')\n",
    "\n",
    "plt.show()"
   ]
  },
  {
   "cell_type": "markdown",
   "metadata": {},
   "source": [
    "### Confusion matrix"
   ]
  },
  {
   "cell_type": "code",
   "execution_count": null,
   "metadata": {},
   "outputs": [],
   "source": [
    "# Step 1: Get model predictions\n",
    "y_pred_probs = model.predict(test_generator)  # Get probability scores\n",
    "y_pred = (y_pred_probs > 0.5).astype(int).flatten()  # Convert probabilities to binary labels\n",
    "\n",
    "# Step 2: Get true labels\n",
    "y_true = test_generator.classes  # Actual class labels from test generator\n",
    "\n",
    "# Step 3: Compute confusion matrix\n",
    "cm = confusion_matrix(y_true, y_pred)\n",
    "\n",
    "# Step 4: Print classification report\n",
    "print(\"Classification Report:\\n\", classification_report(y_true, y_pred, target_names=[\"Malignant\", \"Benign\"]))\n",
    "\n",
    "# Step 5: Plot Confusion Matrix\n",
    "plt.figure(figsize=(6, 5))\n",
    "\n",
    "# Compute annotation text with both count and percentage\n",
    "annot = np.array([[f\"{value}\\n({value/np.sum(row)*100:.1f}%)\" if np.sum(row) > 0 else f\"{value}\\n(0.0%)\"\n",
    "                   for value in row] for row in cm])\n",
    "\n",
    "sns.heatmap(cm, annot=annot, fmt=\"\", cmap=\"viridis\", xticklabels=[\"Malignant\", \"Benign\"], \n",
    "            yticklabels=[\"Malignant\", \"Benign\"], annot_kws={\"size\": 12, \"weight\": \"bold\"})\n",
    "\n",
    "plt.xlabel(\"Predicted Label\", fontsize=12, fontweight=\"bold\")\n",
    "plt.ylabel(\"True Label\", fontsize=12, fontweight=\"bold\")\n",
    "plt.title(\"Confusion Matrix\", fontsize=14, fontweight=\"bold\")\n",
    "\n",
    "plt.savefig('test_cm.png', dpi=600, bbox_inches='tight')\n",
    "\n",
    "plt.show()"
   ]
  },
  {
   "cell_type": "markdown",
   "metadata": {},
   "source": [
    "### ROC-AUC analysis on test set"
   ]
  },
  {
   "cell_type": "code",
   "execution_count": null,
   "metadata": {},
   "outputs": [],
   "source": [
    "# Get the true labels and predictions\n",
    "y_true = test_generator.classes  # True labels\n",
    "y_pred = model.predict(test_generator)  # Predicted probabilities\n",
    "\n",
    "# If multi-class classification, compute ROC-AUC for each class separately\n",
    "if y_pred.shape[1] > 1:\n",
    "    from sklearn.preprocessing import label_binarize\n",
    "    from sklearn.metrics import roc_auc_score\n",
    "\n",
    "    y_true_bin = label_binarize(y_true, classes=np.arange(y_pred.shape[1]))\n",
    "    roc_auc = roc_auc_score(y_true_bin, y_pred, multi_class=\"ovr\")\n",
    "else:\n",
    "    # For binary classification\n",
    "    fpr, tpr, _ = roc_curve(y_true, y_pred)\n",
    "    roc_auc = auc(fpr, tpr)\n",
    "\n",
    "    # Plot ROC curve\n",
    "    plt.figure()\n",
    "    plt.plot(fpr, tpr, color='blue', lw=2, label=f'ROC curve (area = {roc_auc:.2f})')\n",
    "    plt.plot([0, 1], [0, 1], color='gray', linestyle='--')\n",
    "    plt.xlabel('False Positive Rate')\n",
    "    plt.ylabel('True Positive Rate')\n",
    "    plt.title('Receiver Operating Characteristic (ROC) Curve')\n",
    "    plt.legend(loc=\"lower right\")\n",
    "    plt.show()\n",
    "\n",
    "print(f\"ROC-AUC Score: {roc_auc:.4f}\")"
   ]
  },
  {
   "cell_type": "markdown",
   "metadata": {},
   "source": [
    "## **6. Save the model**"
   ]
  },
  {
   "cell_type": "code",
   "execution_count": null,
   "metadata": {},
   "outputs": [],
   "source": [
    "# Save trained model\n",
    "model.save(\"cancer_classifier_CNN.keras\")"
   ]
  }
 ],
 "metadata": {
  "accelerator": "GPU",
  "colab": {
   "gpuType": "T4",
   "provenance": []
  },
  "kernelspec": {
   "display_name": "Python 3 (ipykernel)",
   "language": "python",
   "name": "python3"
  },
  "language_info": {
   "codemirror_mode": {
    "name": "ipython",
    "version": 3
   },
   "file_extension": ".py",
   "mimetype": "text/x-python",
   "name": "python",
   "nbconvert_exporter": "python",
   "pygments_lexer": "ipython3",
   "version": "3.12.0"
  }
 },
 "nbformat": 4,
 "nbformat_minor": 4
}
